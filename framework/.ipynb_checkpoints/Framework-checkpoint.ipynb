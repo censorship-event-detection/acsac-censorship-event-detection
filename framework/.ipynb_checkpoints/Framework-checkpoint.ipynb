{
 "cells": [
  {
   "cell_type": "code",
   "execution_count": 1,
   "id": "6645f1a0",
   "metadata": {},
   "outputs": [],
   "source": [
    "import pandas as pd\n",
    "import numpy as np\n",
    "import statistics as sta\n",
    "import math\n",
    "import pymannkendall as mk"
   ]
  },
  {
   "cell_type": "code",
   "execution_count": 2,
   "id": "3933ef61",
   "metadata": {},
   "outputs": [],
   "source": [
    "#Calculating the non-overlapping averages\n",
    "def non_overlapping_average(k, points):\n",
    "    average = []\n",
    "    for i in range(0,len(points) + 1, k):\n",
    "        start = i\n",
    "        end = i + k\n",
    "        if(len(points[start:end]) > 0):\n",
    "            average.append(sta.mean(points[start:end]))\n",
    "    return average"
   ]
  },
  {
   "cell_type": "code",
   "execution_count": 3,
   "id": "325bea2d",
   "metadata": {},
   "outputs": [],
   "source": [
    "#Calculating the standard deviation for each of the non-overlapping averages\n",
    "def non_overlapping_stddev(k, points):\n",
    "    stddev = []\n",
    "    for i in range(0,len(points) + 1, k):\n",
    "        start = i\n",
    "        end = i + k\n",
    "        if(len(points[start:end]) > 1):\n",
    "            stddev.append(sta.stdev(points[start:end]))\n",
    "    return stddev"
   ]
  },
  {
   "cell_type": "code",
   "execution_count": 4,
   "id": "f064678c",
   "metadata": {},
   "outputs": [],
   "source": [
    "#For the non-overlapping averages, the date corresponds to the first data point used to calculate the average\n",
    "def get_dates(k, d):\n",
    "    final_dates = []\n",
    "    for i in range(0,len(d), k):\n",
    "        final_dates.append(d[i])\n",
    "    return final_dates"
   ]
  },
  {
   "cell_type": "code",
   "execution_count": 5,
   "id": "602d9c33",
   "metadata": {},
   "outputs": [],
   "source": [
    "#The average MR (moving range) is used for calculating the limits of an Individuals control chart\n",
    "def mr_average(points):\n",
    "    mr = []\n",
    "    for i in range(1, len(points)):\n",
    "        mr.append(abs(points[i] - points[i-1]))\n",
    "    return sta.mean(mr)"
   ]
  },
  {
   "cell_type": "code",
   "execution_count": 6,
   "id": "ffce9111",
   "metadata": {},
   "outputs": [],
   "source": [
    "#Calculating the control chart upper control limit, lower control limit, and mean\n",
    "#The equations used are based on whether the data points are averages or ratios\n",
    "def calculate_limits(data_points, data_set):\n",
    "    if data_set == 'averages':\n",
    "        stdev = non_overlapping_stddev(5, data_points)\n",
    "        stddev_average = sta.mean(stdev)\n",
    "        Mean = sta.mean(data_points)\n",
    "        UCL = Mean + (3*stddev_average)/(0.9727*math.sqrt(5))\n",
    "        LCL = Mean - (3*stddev_average)/(0.9727*math.sqrt(5))\n",
    "    elif data_set == 'ratio':\n",
    "        Mean = sta.mean(data_points)\n",
    "        mr = mr_average(data_points)\n",
    "        UCL = Mean + (3*mr/1.128)\n",
    "        LCL = Mean - (3*mr/1.128)\n",
    "    return Mean, UCL, LCL"
   ]
  },
  {
   "cell_type": "markdown",
   "id": "20fa81fd",
   "metadata": {},
   "source": [
    "## Prepare Data: Edit the next two cells to use with a different dataset"
   ]
  },
  {
   "cell_type": "code",
   "execution_count": 7,
   "id": "cb077bf6",
   "metadata": {},
   "outputs": [],
   "source": [
    "path_to_dataset = '../data/ooni/ooni-data-cn.csv'\n",
    "df = pd.read_csv(path_to_dataset, index_col=0)"
   ]
  },
  {
   "cell_type": "code",
   "execution_count": 8,
   "id": "5c489477",
   "metadata": {},
   "outputs": [],
   "source": [
    "#typ can equal 'averages' or 'ratio'. \n",
    "#When typ = 'averages' the X-bar control chart is used. This setting is best for data points in count form (e.g., number of measurements)\n",
    "#When typ = 'ratio' the Individual Measures control chart is used. This setting is best for data points in proportion form (e.g., anomalies/measurements)\n",
    "typ = 'averages'\n",
    "\n",
    "#Set version equal to the name of the column containing the data points of interest\n",
    "version = 'total'\n",
    "\n",
    "#Set index equal to the name of the column containing the dates or timestamps for the data points\n",
    "index = 'date'"
   ]
  },
  {
   "cell_type": "markdown",
   "id": "5ce5e774",
   "metadata": {},
   "source": [
    "## Calculate Mann-Kendall signals"
   ]
  },
  {
   "cell_type": "code",
   "execution_count": 9,
   "id": "023ea820",
   "metadata": {},
   "outputs": [],
   "source": [
    "df = df.set_index(df[index])\n",
    "df = df.sort_index()\n",
    "\n",
    "if typ == 'averages':\n",
    "    n = 5\n",
    "    measure_smoothed = non_overlapping_average(n, df[version].tolist())\n",
    "    dates = get_dates(n, df[index])\n",
    "if typ == 'ratio':\n",
    "    measure_smoothed = df[version]\n",
    "    dates = df[index]"
   ]
  },
  {
   "cell_type": "code",
   "execution_count": 10,
   "id": "e1358848",
   "metadata": {},
   "outputs": [],
   "source": [
    "#Identify if a Mann-Kendall signal (increasing or decreasing) exists within rolling windows of data points (n=10)\n",
    "#Results are stored with both the date of the first data point in the window and the date of the last data point in the window\n",
    "\n",
    "mann_kendall_df = pd.DataFrame(columns=['start_date', 'end_date', version, 'trend', 'p-value'])\n",
    "window_size = 10\n",
    "start = 0\n",
    "for i in range(window_size,len(measure_smoothed) + 1):\n",
    "    end = i-1\n",
    "    trend, h, p, z, Tau, s, var_s, slope, intercept = mk.original_test(measure_smoothed[start:end])\n",
    "    df_new_line = pd.DataFrame([[dates[start], dates[end], measure_smoothed[start], trend, p]], columns=['start_date', 'end_date', version, 'trend', 'p-value'])\n",
    "    mann_kendall_df = pd.concat([mann_kendall_df, df_new_line], ignore_index=True)\n",
    "    start += 1"
   ]
  },
  {
   "cell_type": "markdown",
   "id": "31148923",
   "metadata": {},
   "source": [
    "## Calculate control chart signals"
   ]
  },
  {
   "cell_type": "code",
   "execution_count": 11,
   "id": "4a104097",
   "metadata": {},
   "outputs": [],
   "source": [
    "#Calculate the upper control limit, lower control limit, and mean for the control chart\n",
    "#Determine if each data point is above, below, or within the limits\n",
    "\n",
    "ucl = 0\n",
    "lcl = 0\n",
    "mean = 0\n",
    "df_control_limit_points = []\n",
    "no_trend_count = 0\n",
    "calculate_new_limits = True\n",
    "outside_limits_count = 0\n",
    "above_limit_count = 0\n",
    "below_limit_count = 0\n",
    "df_signals = pd.DataFrame(columns=['Start Date', 'End Date', 'MK Signal', 'Control Limit Signal', 'Current Mean', 'Current UCL', 'Current LCL'])\n",
    "for index, row in mann_kendall_df.iterrows():\n",
    "    date = row['start_date']\n",
    "    end_date = row['end_date']\n",
    "    m = row['trend'] \n",
    "    #New limits are calculated from 20 consecutive data points with no Mann-Kendall trend\n",
    "    #If new limits are needed, count how many data points have no trend\n",
    "    if calculate_new_limits:\n",
    "        cc = 'Waiting'\n",
    "        #Count no trend points\n",
    "        if row['trend'] == 'no trend':\n",
    "            no_trend_count += 1\n",
    "            df_control_limit_points.append(row[version])\n",
    "        else:\n",
    "            #If a window has a trend reset the control limit count\n",
    "            no_trend_count = 0\n",
    "            df_control_limit_points = []\n",
    "        #If there are 20 points in a row, new limits can be calculated\n",
    "        if no_trend_count == 20:\n",
    "            mean, ucl, lcl = calculate_limits(df_control_limit_points, typ)\n",
    "            cc = 'New limits'\n",
    "            calculate_new_limits = False\n",
    "            no_trend_count = 0\n",
    "            df_control_limit_points = []\n",
    " \n",
    "    #New control limits need to be calculated after the data has been above or below the control limits for 5 consecutive data points\n",
    "    #If new control limits are not currently needed, track how many points have been above or below the limits\n",
    "    if not calculate_new_limits:\n",
    "        if row[version] > ucl:\n",
    "            cc = 'above limits'\n",
    "            above_limit_count += 1\n",
    "            below_limit_count = 0\n",
    "        elif row[version] < lcl:\n",
    "            cc = 'below limits'\n",
    "            below_limit_count += 1\n",
    "            above_limit_count = 0\n",
    "        else:\n",
    "            cc = 'within limits'\n",
    "            above_limit_count = 0\n",
    "            below_limit_count = 0\n",
    "        if above_limit_count == 5 or below_limit_count == 5:\n",
    "            calculate_new_limits = True\n",
    "            above_limit_count = 0\n",
    "            below_limit_count = 0\n",
    "\n",
    "    #The results of the control chart signals correspond to the data point at the Start Date of the Mann-Kendall signal\n",
    "    df_new_line = pd.DataFrame([[date, end_date, m, cc, mean, ucl, lcl]], columns=['Start Date', 'End Date', 'MK Signal', 'Control Limit Signal', 'Current Mean', 'Current UCL', 'Current LCL'])\n",
    "    df_signals = pd.concat([df_signals, df_new_line], ignore_index=True)"
   ]
  },
  {
   "cell_type": "markdown",
   "id": "ba2ddd34",
   "metadata": {},
   "source": [
    "## Get signal dates"
   ]
  },
  {
   "cell_type": "code",
   "execution_count": 12,
   "id": "360eefca",
   "metadata": {},
   "outputs": [],
   "source": [
    "#Once each data point has been labeled, the start and end of each signal is determined by \n",
    "#identifying consecutive data points with the same signal\n",
    "df_signal_dates = pd.DataFrame(columns=['Signal Start', 'Signal End', 'Type'])\n",
    "\n",
    "types = [\"increasing\", \"decreasing\", \"above limits\", \"below limits\"]\n",
    "type_labels = [\"MK Increasing\", \"MK Decreasing\", \"CC Above\", \"CC Below\"]\n",
    "column_number = [2,2,3,3]\n",
    "\n",
    "for j in range(len(types)):\n",
    "    start = False\n",
    "    start_date = \"\"\n",
    "    current_end_date = \"\"\n",
    "\n",
    "    for i in range(len(df_signals)):\n",
    "        signal = df_signals.iloc[i, column_number[j]]\n",
    "        date = df_signals.iloc[i, 0]\n",
    "        if signal == types[j] and not start:\n",
    "            start = True\n",
    "            start_date = date\n",
    "            current_end_date = date\n",
    "\n",
    "        if signal != types[j] and start:\n",
    "            if df_signals.iloc[i-1, column_number[j]] != types[j]:\n",
    "                start = False\n",
    "                if start_date != current_end_date:\n",
    "                        df_new_line = pd.DataFrame([[start_date, current_end_date, type_labels[j]]], columns=['Signal Start', 'Signal End', 'Type'])\n",
    "                        df_signal_dates = pd.concat([df_signal_dates, df_new_line], ignore_index=True)\n",
    "\n",
    "        if signal == types[j] and start:\n",
    "            current_end_date = date\n",
    "\n",
    "    if start:\n",
    "        if start_date != current_end_date:\n",
    "            df_new_line = pd.DataFrame([[start_date, current_end_date, type_labels[j]]], columns=['Signal Start', 'Signal End', 'Type'])\n",
    "            df_signal_dates = pd.concat([df_signal_dates, df_new_line], ignore_index=True)"
   ]
  },
  {
   "cell_type": "code",
   "execution_count": 13,
   "id": "2b82d365",
   "metadata": {},
   "outputs": [
    {
     "data": {
      "text/html": [
       "<div>\n",
       "<style scoped>\n",
       "    .dataframe tbody tr th:only-of-type {\n",
       "        vertical-align: middle;\n",
       "    }\n",
       "\n",
       "    .dataframe tbody tr th {\n",
       "        vertical-align: top;\n",
       "    }\n",
       "\n",
       "    .dataframe thead th {\n",
       "        text-align: right;\n",
       "    }\n",
       "</style>\n",
       "<table border=\"1\" class=\"dataframe\">\n",
       "  <thead>\n",
       "    <tr style=\"text-align: right;\">\n",
       "      <th></th>\n",
       "      <th>Signal Start</th>\n",
       "      <th>Signal End</th>\n",
       "      <th>Type</th>\n",
       "    </tr>\n",
       "  </thead>\n",
       "  <tbody>\n",
       "    <tr>\n",
       "      <th>0</th>\n",
       "      <td>2021-02-23</td>\n",
       "      <td>2021-03-27</td>\n",
       "      <td>MK Increasing</td>\n",
       "    </tr>\n",
       "    <tr>\n",
       "      <th>1</th>\n",
       "      <td>2021-08-19</td>\n",
       "      <td>2021-09-23</td>\n",
       "      <td>MK Increasing</td>\n",
       "    </tr>\n",
       "    <tr>\n",
       "      <th>2</th>\n",
       "      <td>2022-01-26</td>\n",
       "      <td>2022-02-20</td>\n",
       "      <td>MK Increasing</td>\n",
       "    </tr>\n",
       "    <tr>\n",
       "      <th>3</th>\n",
       "      <td>2022-12-02</td>\n",
       "      <td>2022-12-12</td>\n",
       "      <td>MK Increasing</td>\n",
       "    </tr>\n",
       "    <tr>\n",
       "      <th>4</th>\n",
       "      <td>2021-12-07</td>\n",
       "      <td>2021-12-22</td>\n",
       "      <td>MK Decreasing</td>\n",
       "    </tr>\n",
       "    <tr>\n",
       "      <th>5</th>\n",
       "      <td>2022-03-17</td>\n",
       "      <td>2022-04-26</td>\n",
       "      <td>MK Decreasing</td>\n",
       "    </tr>\n",
       "    <tr>\n",
       "      <th>6</th>\n",
       "      <td>2022-09-03</td>\n",
       "      <td>2022-09-13</td>\n",
       "      <td>MK Decreasing</td>\n",
       "    </tr>\n",
       "  </tbody>\n",
       "</table>\n",
       "</div>"
      ],
      "text/plain": [
       "  Signal Start  Signal End           Type\n",
       "0   2021-02-23  2021-03-27  MK Increasing\n",
       "1   2021-08-19  2021-09-23  MK Increasing\n",
       "2   2022-01-26  2022-02-20  MK Increasing\n",
       "3   2022-12-02  2022-12-12  MK Increasing\n",
       "4   2021-12-07  2021-12-22  MK Decreasing\n",
       "5   2022-03-17  2022-04-26  MK Decreasing\n",
       "6   2022-09-03  2022-09-13  MK Decreasing"
      ]
     },
     "execution_count": 13,
     "metadata": {},
     "output_type": "execute_result"
    }
   ],
   "source": [
    "df_signal_dates"
   ]
  },
  {
   "cell_type": "code",
   "execution_count": null,
   "id": "d18044c8",
   "metadata": {},
   "outputs": [],
   "source": []
  },
  {
   "cell_type": "code",
   "execution_count": null,
   "id": "27b716a6-d5ad-42da-8b6d-0af7d9c114f6",
   "metadata": {},
   "outputs": [],
   "source": []
  }
 ],
 "metadata": {
  "kernelspec": {
   "display_name": "Python 3 (ipykernel)",
   "language": "python",
   "name": "python3"
  },
  "language_info": {
   "codemirror_mode": {
    "name": "ipython",
    "version": 3
   },
   "file_extension": ".py",
   "mimetype": "text/x-python",
   "name": "python",
   "nbconvert_exporter": "python",
   "pygments_lexer": "ipython3",
   "version": "3.9.6"
  }
 },
 "nbformat": 4,
 "nbformat_minor": 5
}
